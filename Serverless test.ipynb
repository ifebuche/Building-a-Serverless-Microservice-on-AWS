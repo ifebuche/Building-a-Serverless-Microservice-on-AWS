{
 "cells": [
  {
   "cell_type": "code",
   "execution_count": 1,
   "id": "033d57a3",
   "metadata": {},
   "outputs": [],
   "source": [
    "import requests\n",
    "import json"
   ]
  },
  {
   "cell_type": "code",
   "execution_count": 2,
   "id": "45f63087",
   "metadata": {},
   "outputs": [],
   "source": [
    "url = \"https://ijcej4eooh.execute-api.eu-west-2.amazonaws.com/default/test0\""
   ]
  },
  {
   "cell_type": "code",
   "execution_count": 3,
   "id": "1322efb4",
   "metadata": {},
   "outputs": [],
   "source": [
    "response = requests.get(url)"
   ]
  },
  {
   "cell_type": "code",
   "execution_count": 4,
   "id": "3bcc3ac1",
   "metadata": {},
   "outputs": [
    {
     "data": {
      "text/plain": [
       "200"
      ]
     },
     "execution_count": 4,
     "metadata": {},
     "output_type": "execute_result"
    }
   ],
   "source": [
    "response.status_code"
   ]
  },
  {
   "cell_type": "code",
   "execution_count": 5,
   "id": "401a6264",
   "metadata": {},
   "outputs": [
    {
     "data": {
      "text/plain": [
       "'\"Hello from Lambda, from Nigeria!\"'"
      ]
     },
     "execution_count": 5,
     "metadata": {},
     "output_type": "execute_result"
    }
   ],
   "source": [
    "response.text"
   ]
  },
  {
   "cell_type": "code",
   "execution_count": 6,
   "id": "d2917d74",
   "metadata": {},
   "outputs": [
    {
     "data": {
      "text/plain": [
       "'Hello from Lambda, from Nigeria!'"
      ]
     },
     "execution_count": 6,
     "metadata": {},
     "output_type": "execute_result"
    }
   ],
   "source": [
    "json.loads(response.text)"
   ]
  },
  {
   "cell_type": "code",
   "execution_count": 7,
   "id": "d25e3adf",
   "metadata": {},
   "outputs": [
    {
     "data": {
      "text/plain": [
       "200"
      ]
     },
     "execution_count": 7,
     "metadata": {},
     "output_type": "execute_result"
    }
   ],
   "source": [
    "response = requests.post(url)\n",
    "response.status_code"
   ]
  },
  {
   "cell_type": "code",
   "execution_count": 8,
   "id": "27af45ab",
   "metadata": {},
   "outputs": [
    {
     "data": {
      "text/plain": [
       "'Hello from Lambda, from Nigeria!'"
      ]
     },
     "execution_count": 8,
     "metadata": {},
     "output_type": "execute_result"
    }
   ],
   "source": [
    "json.loads(response.text)"
   ]
  },
  {
   "cell_type": "code",
   "execution_count": null,
   "id": "c9ce371e",
   "metadata": {},
   "outputs": [],
   "source": []
  },
  {
   "cell_type": "markdown",
   "id": "20d6a442",
   "metadata": {},
   "source": [
    "# Deployed with Serverless Framework"
   ]
  },
  {
   "cell_type": "code",
   "execution_count": null,
   "id": "48f0c33a",
   "metadata": {},
   "outputs": [],
   "source": [
    "url = \"https://8zyxn9k57h.execute-api.eu-west-2.amazonaws.com/stage/family/askpyfesh0\""
   ]
  },
  {
   "cell_type": "code",
   "execution_count": null,
   "id": "d1173502",
   "metadata": {},
   "outputs": [],
   "source": [
    "response = requests.get(url)\n",
    "response.status_code"
   ]
  },
  {
   "cell_type": "code",
   "execution_count": null,
   "id": "1db1efad",
   "metadata": {},
   "outputs": [],
   "source": [
    "response.text"
   ]
  },
  {
   "cell_type": "markdown",
   "id": "42685d95",
   "metadata": {},
   "source": [
    "# After request type/verb update to post"
   ]
  },
  {
   "cell_type": "code",
   "execution_count": 11,
   "id": "991a783e",
   "metadata": {},
   "outputs": [],
   "source": [
    "# #GET starts failing\n",
    "# #Skip\n",
    "url = \"https://8zyxn9k57h.execute-api.eu-west-2.amazonaws.com/stage/family/askpyfesh0_post\"\n",
    "# response = requests.get(url)\n",
    "# response.status_code"
   ]
  },
  {
   "cell_type": "code",
   "execution_count": 10,
   "id": "e1c23998",
   "metadata": {},
   "outputs": [],
   "source": [
    "# response.text"
   ]
  },
  {
   "cell_type": "code",
   "execution_count": 12,
   "id": "09a428ad",
   "metadata": {},
   "outputs": [
    {
     "data": {
      "text/plain": [
       "'https://8zyxn9k57h.execute-api.eu-west-2.amazonaws.com/stage/family/askpyfesh0_post'"
      ]
     },
     "execution_count": 12,
     "metadata": {},
     "output_type": "execute_result"
    }
   ],
   "source": [
    "url"
   ]
  },
  {
   "cell_type": "code",
   "execution_count": 31,
   "id": "5b0fd14c",
   "metadata": {},
   "outputs": [
    {
     "data": {
      "text/plain": [
       "200"
      ]
     },
     "execution_count": 31,
     "metadata": {},
     "output_type": "execute_result"
    }
   ],
   "source": [
    "data = {\"name\": \"sombody\", \"position\": \"learner\"}\n",
    "headers = {'Content-Type': 'application/json'}\n",
    "response = requests.post(url, headers=headers, json=data)\n",
    "response.status_code"
   ]
  },
  {
   "cell_type": "code",
   "execution_count": 32,
   "id": "211ae68d",
   "metadata": {},
   "outputs": [
    {
     "data": {
      "text/plain": [
       "{'message': 'family member added.'}"
      ]
     },
     "execution_count": 32,
     "metadata": {},
     "output_type": "execute_result"
    }
   ],
   "source": [
    "json.loads(response.text)"
   ]
  },
  {
   "cell_type": "code",
   "execution_count": 19,
   "id": "ca51e601",
   "metadata": {},
   "outputs": [
    {
     "data": {
      "text/plain": [
       "403"
      ]
     },
     "execution_count": 19,
     "metadata": {},
     "output_type": "execute_result"
    }
   ],
   "source": [
    "#After request type/verb update to post\n",
    "data = {\"name\": \"Somebody\"}\n",
    "headers = {'Content-Type': 'application/json'}\n",
    "response = requests.post(\"https://8zyxn9k57h.execute-api.eu-west-2.amazonaws.com/stage/family/askpyfesh0\",\n",
    "                        headers=headers, json=data)\n",
    "response.status_code"
   ]
  },
  {
   "cell_type": "code",
   "execution_count": 21,
   "id": "f29b0cf0",
   "metadata": {},
   "outputs": [
    {
     "data": {
      "text/plain": [
       "{'message': 'Missing Authentication Token'}"
      ]
     },
     "execution_count": 21,
     "metadata": {},
     "output_type": "execute_result"
    }
   ],
   "source": [
    "json.loads(response.text)"
   ]
  },
  {
   "cell_type": "code",
   "execution_count": null,
   "id": "1550e905",
   "metadata": {},
   "outputs": [],
   "source": [
    "#After request type/verb update to post\n",
    "data = {\"name\": \"Somebody\", \"position\": \"lead\"}\n",
    "headers = {'Content-Type': 'application/json', 'Authorization': 'Token 02020'}\n",
    "response = requests.post(\"https://8zyxn9k57h.execute-api.eu-west-2.amazonaws.com/stage/family/askpyfesh0\",\n",
    "                        headers=headers, json=data)\n",
    "response.status_code"
   ]
  },
  {
   "cell_type": "code",
   "execution_count": null,
   "id": "e26aa564",
   "metadata": {},
   "outputs": [],
   "source": [
    "json.loads(response.text)"
   ]
  },
  {
   "cell_type": "code",
   "execution_count": null,
   "id": "13b280d1",
   "metadata": {},
   "outputs": [],
   "source": []
  }
 ],
 "metadata": {
  "kernelspec": {
   "display_name": "Python 3",
   "language": "python",
   "name": "python3"
  },
  "language_info": {
   "codemirror_mode": {
    "name": "ipython",
    "version": 3
   },
   "file_extension": ".py",
   "mimetype": "text/x-python",
   "name": "python",
   "nbconvert_exporter": "python",
   "pygments_lexer": "ipython3",
   "version": "3.9.0"
  }
 },
 "nbformat": 4,
 "nbformat_minor": 5
}
