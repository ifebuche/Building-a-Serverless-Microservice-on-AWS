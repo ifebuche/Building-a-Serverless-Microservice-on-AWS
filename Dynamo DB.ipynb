{
 "cells": [
  {
   "cell_type": "code",
   "execution_count": null,
   "id": "a923ab70",
   "metadata": {},
   "outputs": [],
   "source": [
    "import json\n",
    "import boto3\n",
    "import os\n",
    "import requests\n",
    "import string\n",
    "import random\n",
    "import pytz\n",
    "from decimal import Decimal\n",
    "from datetime import datetime as dt\n",
    "from boto3.dynamodb.conditions import Attr, Key\n",
    "\n",
    "dynamodb = boto3.resource('dynamodb', \n",
    "                          region_name = 'eu-west-2',\n",
    "                          aws_access_key_id=os.environ[\"aws_access_key_id\"],\n",
    "                          aws_secret_access_key=os.environ[\"aws_secret_access_key\"]\n",
    "                         )\n",
    "\n",
    "family = dynamodb.Table(\"family\") #The partion key here is \"_id\" and sort key is \"create_date\""
   ]
  },
  {
   "cell_type": "markdown",
   "id": "8221ce9e",
   "metadata": {},
   "source": [
    "### Helper Functions"
   ]
  },
  {
   "cell_type": "code",
   "execution_count": null,
   "id": "d4dc9210",
   "metadata": {},
   "outputs": [],
   "source": [
    "def make_id():\n",
    "    \"\"\"\n",
    "    Create a random string that stands no chance of being repeated\n",
    "    \"\"\"\n",
    "    bailer = str(dt.now()).replace('-', '').replace(' ', '').replace('.','').replace(':','')\n",
    "    x = ''.join(random.choice(string.ascii_uppercase + string.ascii_lowercase + string.digits) for _ in range(16))\n",
    "    val = bailer+x\n",
    "    return val\n",
    "\n",
    "def number_to_decimal(data):\n",
    "    \"\"\"\n",
    "    Convert dictionary values from numbers to Decimal for dynamo put\n",
    "    \"\"\"\n",
    "    try:\n",
    "        return json.loads(json.dumps(data), parse_float=Decimal)\n",
    "    except TypeError:\n",
    "        print(\"E no work\")\n",
    "        if type(data) != dict:\n",
    "            return False, \"we can only work on python dictionaries.\"\n",
    "        \n",
    "        for k, v in data.items():\n",
    "            if type(v) in [float, int]:\n",
    "                data[k] = round(Decimal(v),2)\n",
    "            elif type(v) == dict:\n",
    "                number_to_decimal(v)\n",
    "        return data\n",
    "\n",
    "def db_put_item(db_name, data: dict):\n",
    "    \"\"\"\n",
    "    - Ensure that data is bearing the applicable partition and sort keys or put will fail\n",
    "    Insert new record or Update ENTIRE record. this happends by matching unique partion key data bears\n",
    "    \"\"\"\n",
    "    status = dynamodb.Table(db_name).put_item(Item=data)\n",
    "    if status['ResponseMetadata']['HTTPStatusCode'] == 200:\n",
    "        return True\n",
    "    return False\n",
    "\n",
    "def now_now_str():\n",
    "    return str(dt.now().astimezone(pytz.timezone(\"Africa/Lagos\")))\n",
    "def now_now():\n",
    "    return dt.now().astimezone(pytz.timezone(\"Africa/Lagos\"))\n",
    "\n",
    "def db_get_item(db_name, d_key, d_value, many=False, baho=False):\n",
    "    \"\"\"\n",
    "    Get an item(s) by a key: str\n",
    "    Updated to keep serching till end of the table if no item is found\n",
    "    many - allow for multiples records to be found, then return all found or one at random.\n",
    "    baho - return all found values\n",
    "    \"\"\"\n",
    "    table = dynamodb.Table(db_name)\n",
    "    document = table.scan(FilterExpression = Attr(d_key).eq(d_value), ConsistentRead=True)\n",
    "    while document[\"Count\"] == 0:\n",
    "        last = document.get(\"LastEvaluatedKey\")\n",
    "        if not last:#End of table reached\n",
    "            return False, \"No match found!\" \n",
    "        document = table.scan(FilterExpression = Attr(d_key).eq(d_value), ConsistentRead=True, ExclusiveStartKey=last)\n",
    "        \n",
    "    if len(document['Items']) > 1:\n",
    "        if not many:\n",
    "            return False, \"Multiple records found!\"\n",
    "        if not baho:\n",
    "            data = random.choice(document[\"Items\"])\n",
    "            return True, data\n",
    "        else:\n",
    "            return True, document[\"Items\"]\n",
    "    return True, document['Items'][0]"
   ]
  },
  {
   "cell_type": "code",
   "execution_count": null,
   "id": "5a5693f7",
   "metadata": {},
   "outputs": [],
   "source": [
    "make_id()"
   ]
  },
  {
   "cell_type": "code",
   "execution_count": null,
   "id": "66f7c918",
   "metadata": {},
   "outputs": [],
   "source": [
    "now_now(), now_now_str()"
   ]
  },
  {
   "cell_type": "markdown",
   "id": "b8ea0d75",
   "metadata": {},
   "source": [
    "# Write to DynamoDB"
   ]
  },
  {
   "cell_type": "code",
   "execution_count": null,
   "id": "9835235d",
   "metadata": {},
   "outputs": [],
   "source": [
    "#dynamoDB is a document db.\n",
    "#These docs are python dicts\n",
    "a_doc = {\n",
    "    \"_id\": make_id(),\n",
    "    \"surname\": \"Amah\",\n",
    "    \"position\": \"Learner\",\n",
    "    \"net_worth\": 10000.5\n",
    "}\n",
    "a_doc"
   ]
  },
  {
   "cell_type": "code",
   "execution_count": null,
   "id": "bfdf9139",
   "metadata": {},
   "outputs": [],
   "source": [
    "#Insert with missing key non-decimal number\n",
    "db_put_item(db_name=\"family\", data=a_doc)"
   ]
  },
  {
   "cell_type": "code",
   "execution_count": null,
   "id": "3d27ffbb",
   "metadata": {},
   "outputs": [],
   "source": [
    "#Add the missing key: create_date\n",
    "a_doc[\"create_date\"] = now_now_str()\n",
    "a_doc"
   ]
  },
  {
   "cell_type": "code",
   "execution_count": null,
   "id": "66be0f87",
   "metadata": {},
   "outputs": [],
   "source": [
    "#Insert with missing key non-decimal number/float\n",
    "db_put_item(db_name=\"family\", data=a_doc)"
   ]
  },
  {
   "cell_type": "code",
   "execution_count": null,
   "id": "b88380c0",
   "metadata": {},
   "outputs": [],
   "source": [
    "#Convert numbers to Decimal\n",
    "a_doc = number_to_decimal(a_doc)\n",
    "a_doc"
   ]
  },
  {
   "cell_type": "code",
   "execution_count": null,
   "id": "288622fe",
   "metadata": {},
   "outputs": [],
   "source": [
    "#Insert with missing key non-decimal number/float\n",
    "db_put_item(db_name=\"family\", data=a_doc)"
   ]
  },
  {
   "cell_type": "code",
   "execution_count": null,
   "id": "2746829c",
   "metadata": {},
   "outputs": [],
   "source": []
  },
  {
   "cell_type": "markdown",
   "id": "0d2bd221",
   "metadata": {},
   "source": [
    "# Explore The Structure of a DynamoDB Document"
   ]
  },
  {
   "cell_type": "code",
   "execution_count": null,
   "id": "d091a88c",
   "metadata": {},
   "outputs": [],
   "source": [
    "#get all documents in the table (Bad move not to filter)\n",
    "document = family.scan()"
   ]
  },
  {
   "cell_type": "code",
   "execution_count": null,
   "id": "7bb5c131",
   "metadata": {},
   "outputs": [],
   "source": [
    "document"
   ]
  },
  {
   "cell_type": "code",
   "execution_count": null,
   "id": "a87739e7",
   "metadata": {},
   "outputs": [],
   "source": [
    "document.keys()"
   ]
  },
  {
   "cell_type": "code",
   "execution_count": null,
   "id": "a2e2b9be",
   "metadata": {},
   "outputs": [],
   "source": [
    "#Success query run status code is 200\n",
    "document[\"ResponseMetadata\"][\"HTTPStatusCode\"]"
   ]
  },
  {
   "cell_type": "code",
   "execution_count": null,
   "id": "b4eea692",
   "metadata": {},
   "outputs": [],
   "source": [
    "document[\"Items\"]"
   ]
  },
  {
   "cell_type": "code",
   "execution_count": null,
   "id": "86553b53",
   "metadata": {},
   "outputs": [],
   "source": [
    "document[\"ResponseMetadata\"]"
   ]
  },
  {
   "cell_type": "code",
   "execution_count": null,
   "id": "6b39be8f",
   "metadata": {},
   "outputs": [],
   "source": [
    "#Total documents encountered in this scan/query, not equal to actual total items found\n",
    "document[\"ScannedCount\"]"
   ]
  },
  {
   "cell_type": "code",
   "execution_count": null,
   "id": "e5b6e4c0",
   "metadata": {},
   "outputs": [],
   "source": [
    "#Total found matching search query (all this time as no filters were included)\n",
    "document[\"Count\"]"
   ]
  },
  {
   "cell_type": "code",
   "execution_count": null,
   "id": "adfa70ac",
   "metadata": {},
   "outputs": [],
   "source": [
    "#This key shows up when there are more results but the single query returns data of a max of 1MB\n",
    "#PS: dynamoDB document/item max size is 400kb\n",
    "last = document.get(\"LastEvaluatedKey\")"
   ]
  },
  {
   "cell_type": "code",
   "execution_count": null,
   "id": "282a4f62",
   "metadata": {},
   "outputs": [],
   "source": []
  },
  {
   "cell_type": "markdown",
   "id": "e3002470",
   "metadata": {},
   "source": [
    "# DynamoDB Query with Filters"
   ]
  },
  {
   "cell_type": "code",
   "execution_count": null,
   "id": "42ef969f",
   "metadata": {},
   "outputs": [],
   "source": [
    "document = family.scan(FilterExpression = Attr(\"surname\").eq(\"Ojo\"))"
   ]
  },
  {
   "cell_type": "code",
   "execution_count": null,
   "id": "2f5e9415",
   "metadata": {},
   "outputs": [],
   "source": [
    "#Items is a python list\n",
    "document[\"Items\"]"
   ]
  },
  {
   "cell_type": "code",
   "execution_count": null,
   "id": "2d68c37c",
   "metadata": {},
   "outputs": [],
   "source": [
    "document[\"ScannedCount\"]"
   ]
  },
  {
   "cell_type": "code",
   "execution_count": null,
   "id": "7057bf82",
   "metadata": {},
   "outputs": [],
   "source": [
    "document[\"Count\"]"
   ]
  },
  {
   "cell_type": "code",
   "execution_count": null,
   "id": "13bc9227",
   "metadata": {},
   "outputs": [],
   "source": [
    "#Update a document\n",
    "ojo = document[\"Items\"][0]\n",
    "ojo"
   ]
  },
  {
   "cell_type": "code",
   "execution_count": null,
   "id": "faa33f7d",
   "metadata": {},
   "outputs": [],
   "source": [
    "ojo[\"company\"] = \"AWS\"\n",
    "ojo"
   ]
  },
  {
   "cell_type": "code",
   "execution_count": null,
   "id": "5bac6d3c",
   "metadata": {},
   "outputs": [],
   "source": [
    "#Provide the partition and sort keys do not change, the matching doc is updated\n",
    "db_put_item(db_name=\"family\", data=ojo)"
   ]
  },
  {
   "cell_type": "code",
   "execution_count": null,
   "id": "a6965113",
   "metadata": {},
   "outputs": [],
   "source": [
    "#Confirm added field\n",
    "document = family.scan(FilterExpression = Attr(\"surname\").eq(\"Ojo\"))\n",
    "document[\"Items\"][0]"
   ]
  },
  {
   "cell_type": "code",
   "execution_count": null,
   "id": "e26303eb",
   "metadata": {},
   "outputs": [],
   "source": []
  }
 ],
 "metadata": {
  "kernelspec": {
   "display_name": "Python 3",
   "language": "python",
   "name": "python3"
  },
  "language_info": {
   "codemirror_mode": {
    "name": "ipython",
    "version": 3
   },
   "file_extension": ".py",
   "mimetype": "text/x-python",
   "name": "python",
   "nbconvert_exporter": "python",
   "pygments_lexer": "ipython3",
   "version": "3.9.0"
  }
 },
 "nbformat": 4,
 "nbformat_minor": 5
}
